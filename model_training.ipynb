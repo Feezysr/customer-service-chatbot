{
 "cells": [
  {
   "cell_type": "code",
   "execution_count": 79,
   "id": "c75bad27-8823-44ae-9dba-0ae7291134ae",
   "metadata": {},
   "outputs": [],
   "source": [
    "import pandas as pd\n",
    "import re\n",
    "import torch\n",
    "from sklearn.model_selection import train_test_split\n",
    "from transformers import DistilBertTokenizer, DistilBertForSequenceClassification, Trainer, TrainingArguments\n",
    "from datasets import Dataset\n",
    "from torch.nn import functional as F\n",
    "from transformers import DataCollatorWithPadding, Trainer\n",
    "from sklearn.metrics import accuracy_score, classification_report\n",
    "from pydantic import BaseModel\n",
    "import uvicorn\n",
    "import threading\n",
    "import requests\n",
    "from fastapi import FastAPI, HTTPException, Request\n",
    "from fastapi.middleware.cors import CORSMiddleware\n",
    "from pydantic import BaseModel\n",
    "import logging\n",
    "from datetime import datetime\n",
    "import json\n",
    "from typing import Dict, Any\n",
    "from fastapi.responses import JSONResponse\n",
    "import time\n",
    "from transformers import pipeline"
   ]
  },
  {
   "cell_type": "code",
   "execution_count": 9,
   "id": "d70ed377-3a34-498c-be6d-efe440646ef9",
   "metadata": {},
   "outputs": [],
   "source": [
    "train_file = 'C:/Users/hafiz/Documents/Gomycode/Bitext_Sample_Customer_Service_Training_Dataset.csv'"
   ]
  },
  {
   "cell_type": "code",
   "execution_count": 10,
   "id": "238e5915-f1fc-4d96-88db-f3e803e05bb8",
   "metadata": {},
   "outputs": [],
   "source": [
    "df_train = pd.read_csv(train_file)"
   ]
  },
  {
   "cell_type": "code",
   "execution_count": 11,
   "id": "04a176e8-85ad-4e7a-83bc-7d269877895a",
   "metadata": {},
   "outputs": [
    {
     "name": "stdout",
     "output_type": "stream",
     "text": [
      "<class 'pandas.core.frame.DataFrame'>\n",
      "RangeIndex: 6539 entries, 0 to 6538\n",
      "Data columns (total 4 columns):\n",
      " #   Column     Non-Null Count  Dtype \n",
      "---  ------     --------------  ----- \n",
      " 0   utterance  6539 non-null   object\n",
      " 1   intent     6539 non-null   object\n",
      " 2   category   6539 non-null   object\n",
      " 3   tags       6539 non-null   object\n",
      "dtypes: object(4)\n",
      "memory usage: 204.5+ KB\n"
     ]
    }
   ],
   "source": [
    "df_train.info()"
   ]
  },
  {
   "cell_type": "code",
   "execution_count": 12,
   "id": "3e1adbb6-7508-4641-b7ed-1163ac3f8459",
   "metadata": {},
   "outputs": [
    {
     "data": {
      "text/html": [
       "<div>\n",
       "<style scoped>\n",
       "    .dataframe tbody tr th:only-of-type {\n",
       "        vertical-align: middle;\n",
       "    }\n",
       "\n",
       "    .dataframe tbody tr th {\n",
       "        vertical-align: top;\n",
       "    }\n",
       "\n",
       "    .dataframe thead th {\n",
       "        text-align: right;\n",
       "    }\n",
       "</style>\n",
       "<table border=\"1\" class=\"dataframe\">\n",
       "  <thead>\n",
       "    <tr style=\"text-align: right;\">\n",
       "      <th></th>\n",
       "      <th>utterance</th>\n",
       "      <th>intent</th>\n",
       "      <th>category</th>\n",
       "      <th>tags</th>\n",
       "    </tr>\n",
       "  </thead>\n",
       "  <tbody>\n",
       "    <tr>\n",
       "      <th>0</th>\n",
       "      <td>would it be possible to cancel the order I made?</td>\n",
       "      <td>cancel_order</td>\n",
       "      <td>ORDER</td>\n",
       "      <td>BIP</td>\n",
       "    </tr>\n",
       "    <tr>\n",
       "      <th>1</th>\n",
       "      <td>cancelling order</td>\n",
       "      <td>cancel_order</td>\n",
       "      <td>ORDER</td>\n",
       "      <td>BK</td>\n",
       "    </tr>\n",
       "    <tr>\n",
       "      <th>2</th>\n",
       "      <td>I need assistance canceling the last order I h...</td>\n",
       "      <td>cancel_order</td>\n",
       "      <td>ORDER</td>\n",
       "      <td>B</td>\n",
       "    </tr>\n",
       "    <tr>\n",
       "      <th>3</th>\n",
       "      <td>problem with canceling the order I made</td>\n",
       "      <td>cancel_order</td>\n",
       "      <td>ORDER</td>\n",
       "      <td>B</td>\n",
       "    </tr>\n",
       "    <tr>\n",
       "      <th>4</th>\n",
       "      <td>I don't know how to cancel the order I made</td>\n",
       "      <td>cancel_order</td>\n",
       "      <td>ORDER</td>\n",
       "      <td>B</td>\n",
       "    </tr>\n",
       "  </tbody>\n",
       "</table>\n",
       "</div>"
      ],
      "text/plain": [
       "                                           utterance        intent category  \\\n",
       "0   would it be possible to cancel the order I made?  cancel_order    ORDER   \n",
       "1                                   cancelling order  cancel_order    ORDER   \n",
       "2  I need assistance canceling the last order I h...  cancel_order    ORDER   \n",
       "3            problem with canceling the order I made  cancel_order    ORDER   \n",
       "4        I don't know how to cancel the order I made  cancel_order    ORDER   \n",
       "\n",
       "  tags  \n",
       "0  BIP  \n",
       "1   BK  \n",
       "2    B  \n",
       "3    B  \n",
       "4    B  "
      ]
     },
     "execution_count": 12,
     "metadata": {},
     "output_type": "execute_result"
    }
   ],
   "source": [
    "df_train.head()"
   ]
  },
  {
   "cell_type": "code",
   "execution_count": 13,
   "id": "685e8cc4-a6c7-4145-9866-35cf250412a2",
   "metadata": {},
   "outputs": [],
   "source": [
    "df_train = df_train[['utterance', 'intent']]"
   ]
  },
  {
   "cell_type": "code",
   "execution_count": 14,
   "id": "eae5f0f8-c961-4c6b-aa4f-b880784fa51c",
   "metadata": {},
   "outputs": [],
   "source": [
    "df_train = df_train.drop_duplicates().dropna()"
   ]
  },
  {
   "cell_type": "code",
   "execution_count": 15,
   "id": "1f09ea1f-f23f-4e73-a6d1-496eb8a6ac8d",
   "metadata": {},
   "outputs": [],
   "source": [
    "def clean_text(text):\n",
    "    text = text.lower()  \n",
    "    text = re.sub(r\"[^\\w\\s]\", \"\", text) \n",
    "    text = text.strip()  \n",
    "    return text"
   ]
  },
  {
   "cell_type": "code",
   "execution_count": 16,
   "id": "48779fd6-b57d-420a-b2eb-4d4d4e47a1a4",
   "metadata": {},
   "outputs": [],
   "source": [
    "df_train[\"utterance\"] = df_train[\"utterance\"].apply(clean_text)"
   ]
  },
  {
   "cell_type": "code",
   "execution_count": 17,
   "id": "b521c4f1-8b9e-4c27-a1da-cb107f1685f8",
   "metadata": {},
   "outputs": [
    {
     "data": {
      "text/html": [
       "<div>\n",
       "<style scoped>\n",
       "    .dataframe tbody tr th:only-of-type {\n",
       "        vertical-align: middle;\n",
       "    }\n",
       "\n",
       "    .dataframe tbody tr th {\n",
       "        vertical-align: top;\n",
       "    }\n",
       "\n",
       "    .dataframe thead th {\n",
       "        text-align: right;\n",
       "    }\n",
       "</style>\n",
       "<table border=\"1\" class=\"dataframe\">\n",
       "  <thead>\n",
       "    <tr style=\"text-align: right;\">\n",
       "      <th></th>\n",
       "      <th>utterance</th>\n",
       "      <th>intent</th>\n",
       "    </tr>\n",
       "  </thead>\n",
       "  <tbody>\n",
       "    <tr>\n",
       "      <th>0</th>\n",
       "      <td>would it be possible to cancel the order i made</td>\n",
       "      <td>cancel_order</td>\n",
       "    </tr>\n",
       "    <tr>\n",
       "      <th>1</th>\n",
       "      <td>cancelling order</td>\n",
       "      <td>cancel_order</td>\n",
       "    </tr>\n",
       "    <tr>\n",
       "      <th>2</th>\n",
       "      <td>i need assistance canceling the last order i h...</td>\n",
       "      <td>cancel_order</td>\n",
       "    </tr>\n",
       "    <tr>\n",
       "      <th>3</th>\n",
       "      <td>problem with canceling the order i made</td>\n",
       "      <td>cancel_order</td>\n",
       "    </tr>\n",
       "    <tr>\n",
       "      <th>4</th>\n",
       "      <td>i dont know how to cancel the order i made</td>\n",
       "      <td>cancel_order</td>\n",
       "    </tr>\n",
       "  </tbody>\n",
       "</table>\n",
       "</div>"
      ],
      "text/plain": [
       "                                           utterance        intent\n",
       "0    would it be possible to cancel the order i made  cancel_order\n",
       "1                                   cancelling order  cancel_order\n",
       "2  i need assistance canceling the last order i h...  cancel_order\n",
       "3            problem with canceling the order i made  cancel_order\n",
       "4         i dont know how to cancel the order i made  cancel_order"
      ]
     },
     "execution_count": 17,
     "metadata": {},
     "output_type": "execute_result"
    }
   ],
   "source": [
    "df_train.head()"
   ]
  },
  {
   "cell_type": "code",
   "execution_count": 18,
   "id": "f9cf5f9a-0425-4412-a7f5-3e08ded63f43",
   "metadata": {},
   "outputs": [],
   "source": [
    "train_file = 'C:/Users/hafiz/Documents/Gomycode/Bitext_Sample_Customer_Service_Training_Dataset.csv'\n",
    "test_file = 'C:/Users/hafiz/Documents/Gomycode/Bitext_Sample_Customer_Service_Testing_Dataset.csv'"
   ]
  },
  {
   "cell_type": "code",
   "execution_count": 19,
   "id": "cec0f3d5-1fec-478c-bfde-721cf47500ee",
   "metadata": {},
   "outputs": [],
   "source": [
    "df_train = pd.read_csv(train_file)[['utterance', 'intent']]\n",
    "df_test = pd.read_csv(test_file)[['utterance', 'intent']]"
   ]
  },
  {
   "cell_type": "code",
   "execution_count": 20,
   "id": "4bf8849e-e869-4c3f-8450-12b47fa44c76",
   "metadata": {},
   "outputs": [],
   "source": [
    "df_train = df_train.drop_duplicates().dropna()\n",
    "df_test = df_test.drop_duplicates().dropna()"
   ]
  },
  {
   "cell_type": "code",
   "execution_count": 21,
   "id": "82f8e6c2-d0fb-4fa6-91a3-e20fe3a8bf51",
   "metadata": {},
   "outputs": [],
   "source": [
    "def clean_text(text):\n",
    "    return text.lower().strip()"
   ]
  },
  {
   "cell_type": "code",
   "execution_count": 22,
   "id": "f656dc28-0771-419a-9c98-57cfe9cddcdf",
   "metadata": {},
   "outputs": [],
   "source": [
    "df_train[\"utterance\"] = df_train[\"utterance\"].apply(clean_text)\n",
    "df_test[\"utterance\"] = df_test[\"utterance\"].apply(clean_text)"
   ]
  },
  {
   "cell_type": "code",
   "execution_count": 23,
   "id": "3ad4365e-487d-47a1-a1e1-919bcd72a845",
   "metadata": {},
   "outputs": [],
   "source": [
    "intent_labels = {label: idx for idx, label in enumerate(df_train[\"intent\"].unique())}\n",
    "df_train[\"intent\"] = df_train[\"intent\"].map(intent_labels)\n",
    "df_test[\"intent\"] = df_test[\"intent\"].map(intent_labels)"
   ]
  },
  {
   "cell_type": "code",
   "execution_count": 24,
   "id": "e8707d2f-6aa5-4d6f-969c-66b40b264eef",
   "metadata": {},
   "outputs": [],
   "source": [
    "tokenizer = DistilBertTokenizer.from_pretrained(\"distilbert-base-uncased\")"
   ]
  },
  {
   "cell_type": "code",
   "execution_count": 25,
   "id": "b814370b-22c0-49df-93f3-f2d8ee6fc6ad",
   "metadata": {},
   "outputs": [],
   "source": [
    "train_dataset = Dataset.from_pandas(df_train.rename(columns={\"intent\": \"labels\"}))\n",
    "test_dataset = Dataset.from_pandas(df_test.rename(columns={\"intent\": \"labels\"}))"
   ]
  },
  {
   "cell_type": "code",
   "execution_count": 26,
   "id": "4a0dd14d-813d-4994-a0e6-adf6a03a1a0f",
   "metadata": {},
   "outputs": [],
   "source": [
    "def tokenize_data(examples):\n",
    "    return tokenizer(examples[\"utterance\"], padding=\"max_length\", truncation=True)"
   ]
  },
  {
   "cell_type": "code",
   "execution_count": 27,
   "id": "d4795b49-1d2d-47ea-b466-8c5098ead0a8",
   "metadata": {},
   "outputs": [
    {
     "data": {
      "application/vnd.jupyter.widget-view+json": {
       "model_id": "99153b46647547e295a431de78bd8a42",
       "version_major": 2,
       "version_minor": 0
      },
      "text/plain": [
       "Map:   0%|          | 0/6539 [00:00<?, ? examples/s]"
      ]
     },
     "metadata": {},
     "output_type": "display_data"
    },
    {
     "data": {
      "application/vnd.jupyter.widget-view+json": {
       "model_id": "9032bab525a74e5ca0908b9f11d896bb",
       "version_major": 2,
       "version_minor": 0
      },
      "text/plain": [
       "Map:   0%|          | 0/818 [00:00<?, ? examples/s]"
      ]
     },
     "metadata": {},
     "output_type": "display_data"
    }
   ],
   "source": [
    "train_dataset = train_dataset.map(tokenize_data, batched=True, remove_columns=[\"utterance\"])\n",
    "test_dataset = test_dataset.map(tokenize_data, batched=True, remove_columns=[\"utterance\"])"
   ]
  },
  {
   "cell_type": "code",
   "execution_count": 28,
   "id": "fff22e8f-71cc-4405-b43c-111c7aa555ca",
   "metadata": {},
   "outputs": [],
   "source": [
    "train_dataset.set_format(type='torch', columns=['input_ids', 'attention_mask', 'labels'])\n",
    "test_dataset.set_format(type='torch', columns=['input_ids', 'attention_mask', 'labels'])"
   ]
  },
  {
   "cell_type": "code",
   "execution_count": 29,
   "id": "a71ab91b-cb05-42c8-851d-536666128a86",
   "metadata": {},
   "outputs": [
    {
     "name": "stderr",
     "output_type": "stream",
     "text": [
      "Some weights of DistilBertForSequenceClassification were not initialized from the model checkpoint at distilbert-base-uncased and are newly initialized: ['classifier.bias', 'classifier.weight', 'pre_classifier.bias', 'pre_classifier.weight']\n",
      "You should probably TRAIN this model on a down-stream task to be able to use it for predictions and inference.\n"
     ]
    }
   ],
   "source": [
    "model = DistilBertForSequenceClassification.from_pretrained(\n",
    "    \"distilbert-base-uncased\", \n",
    "    num_labels=len(intent_labels)\n",
    ")"
   ]
  },
  {
   "cell_type": "code",
   "execution_count": 30,
   "id": "21158b45-624d-47ab-9c2e-110fc54dc5a7",
   "metadata": {},
   "outputs": [],
   "source": [
    "class CustomTrainer(Trainer):\n",
    "    def compute_loss(self, model, inputs, return_outputs=False, **kwargs):\n",
    "        labels = inputs.get(\"labels\")\n",
    "        outputs = model(**inputs)\n",
    "        logits = outputs.logits\n",
    "        loss = F.cross_entropy(logits, labels)\n",
    "        return (loss, outputs) if return_outputs else loss"
   ]
  },
  {
   "cell_type": "code",
   "execution_count": 31,
   "id": "2d80eee3-02a1-4334-b6b6-e092cec860d6",
   "metadata": {},
   "outputs": [],
   "source": [
    "data_collator = DataCollatorWithPadding(tokenizer=tokenizer)"
   ]
  },
  {
   "cell_type": "code",
   "execution_count": 32,
   "id": "aa23f942-9894-42da-9244-92824fa04f9d",
   "metadata": {},
   "outputs": [
    {
     "name": "stderr",
     "output_type": "stream",
     "text": [
      "C:\\Users\\hafiz\\AppData\\Local\\Programs\\Python\\Python312\\Lib\\site-packages\\transformers\\training_args.py:1575: FutureWarning: `evaluation_strategy` is deprecated and will be removed in version 4.46 of 🤗 Transformers. Use `eval_strategy` instead\n",
      "  warnings.warn(\n"
     ]
    }
   ],
   "source": [
    "training_args = TrainingArguments(\n",
    "    output_dir=\"./results\",\n",
    "    evaluation_strategy=\"epoch\",\n",
    "    learning_rate=2e-5,\n",
    "    per_device_train_batch_size=16,\n",
    "    per_device_eval_batch_size=16,\n",
    "    num_train_epochs=3,\n",
    "    weight_decay=0.01,\n",
    "    logging_dir=\"./logs\",\n",
    "    logging_steps=10,\n",
    "    save_strategy=\"epoch\",\n",
    ")"
   ]
  },
  {
   "cell_type": "code",
   "execution_count": 33,
   "id": "96ba50c7-3f26-44ad-9d86-22af94c3bc8e",
   "metadata": {},
   "outputs": [],
   "source": [
    "trainer = CustomTrainer(\n",
    "    model=model,\n",
    "    args=training_args,\n",
    "    train_dataset=train_dataset,\n",
    "    eval_dataset=test_dataset,\n",
    "    data_collator=data_collator,\n",
    ")"
   ]
  },
  {
   "cell_type": "code",
   "execution_count": 34,
   "id": "0024f675-747b-4b36-90c9-c44f40322e85",
   "metadata": {},
   "outputs": [
    {
     "data": {
      "text/html": [
       "\n",
       "    <div>\n",
       "      \n",
       "      <progress value='1227' max='1227' style='width:300px; height:20px; vertical-align: middle;'></progress>\n",
       "      [1227/1227 5:56:19, Epoch 3/3]\n",
       "    </div>\n",
       "    <table border=\"1\" class=\"dataframe\">\n",
       "  <thead>\n",
       " <tr style=\"text-align: left;\">\n",
       "      <th>Epoch</th>\n",
       "      <th>Training Loss</th>\n",
       "      <th>Validation Loss</th>\n",
       "    </tr>\n",
       "  </thead>\n",
       "  <tbody>\n",
       "    <tr>\n",
       "      <td>1</td>\n",
       "      <td>0.228600</td>\n",
       "      <td>0.131169</td>\n",
       "    </tr>\n",
       "    <tr>\n",
       "      <td>2</td>\n",
       "      <td>0.030900</td>\n",
       "      <td>0.020303</td>\n",
       "    </tr>\n",
       "    <tr>\n",
       "      <td>3</td>\n",
       "      <td>0.019700</td>\n",
       "      <td>0.013985</td>\n",
       "    </tr>\n",
       "  </tbody>\n",
       "</table><p>"
      ],
      "text/plain": [
       "<IPython.core.display.HTML object>"
      ]
     },
     "metadata": {},
     "output_type": "display_data"
    },
    {
     "data": {
      "text/plain": [
       "TrainOutput(global_step=1227, training_loss=0.4875375621306187, metrics={'train_runtime': 21402.9304, 'train_samples_per_second': 0.917, 'train_steps_per_second': 0.057, 'total_flos': 2599771523761152.0, 'train_loss': 0.4875375621306187, 'epoch': 3.0})"
      ]
     },
     "execution_count": 34,
     "metadata": {},
     "output_type": "execute_result"
    }
   ],
   "source": [
    "trainer.train()"
   ]
  },
  {
   "cell_type": "code",
   "execution_count": 35,
   "id": "e870b9b2-d3e9-4047-9962-fe6d3f894b72",
   "metadata": {},
   "outputs": [
    {
     "data": {
      "text/plain": [
       "('chatbot_model\\\\tokenizer_config.json',\n",
       " 'chatbot_model\\\\special_tokens_map.json',\n",
       " 'chatbot_model\\\\vocab.txt',\n",
       " 'chatbot_model\\\\added_tokens.json')"
      ]
     },
     "execution_count": 35,
     "metadata": {},
     "output_type": "execute_result"
    }
   ],
   "source": [
    "model.save_pretrained(\"chatbot_model\")\n",
    "tokenizer.save_pretrained(\"chatbot_model\")"
   ]
  },
  {
   "cell_type": "code",
   "execution_count": 38,
   "id": "a5fe10fe-c9d9-4051-9372-02ab07f914ae",
   "metadata": {},
   "outputs": [
    {
     "name": "stdout",
     "output_type": "stream",
     "text": [
      "Training complete! Model saved in 'chatbot_model'\n"
     ]
    }
   ],
   "source": [
    "print(\"Training complete! Model saved in 'chatbot_model'\")"
   ]
  },
  {
   "cell_type": "code",
   "execution_count": 43,
   "id": "b7628947-1da0-4206-8c4a-87913c242dae",
   "metadata": {},
   "outputs": [],
   "source": [
    "def evaluate_model(model, dataset, intent_labels):\n",
    "    model.eval()\n",
    "    all_preds = []\n",
    "    all_labels = []\n",
    "    \n",
    "    id_to_label = {v: k for k, v in intent_labels.items()}\n",
    "    \n",
    "    for sample in dataset:\n",
    "        inputs = {\n",
    "            \"input_ids\": sample[\"input_ids\"].unsqueeze(0),\n",
    "            \"attention_mask\": sample[\"attention_mask\"].unsqueeze(0)\n",
    "        }\n",
    "        label = sample[\"labels\"].item()\n",
    "        \n",
    "        with torch.no_grad():\n",
    "            outputs = model(**inputs)\n",
    "        \n",
    "        pred = torch.argmax(outputs.logits, dim=1).item()\n",
    "        all_preds.append(pred)\n",
    "        all_labels.append(label)\n",
    "    \n",
    "    pred_labels = [id_to_label[p] for p in all_preds]\n",
    "    true_labels = [id_to_label[l] for l in all_labels]\n",
    "    \n",
    "    accuracy = accuracy_score(true_labels, pred_labels)\n",
    "    report = classification_report(true_labels, pred_labels)\n",
    "    \n",
    "    return accuracy, report"
   ]
  },
  {
   "cell_type": "code",
   "execution_count": 44,
   "id": "a336aeed-77e3-498a-9d73-182433d1a1cd",
   "metadata": {},
   "outputs": [],
   "source": [
    "eval_model = DistilBertForSequenceClassification.from_pretrained(\"chatbot_model\")\n",
    "eval_tokenizer = DistilBertTokenizer.from_pretrained(\"chatbot_model\")"
   ]
  },
  {
   "cell_type": "code",
   "execution_count": 45,
   "id": "f54bdf66-2dc0-40b4-aa22-fd0ed11a46c6",
   "metadata": {},
   "outputs": [],
   "source": [
    "eval_df = pd.read_csv(test_file)[['utterance', 'intent']].drop_duplicates().dropna()\n",
    "eval_df[\"utterance\"] = eval_df[\"utterance\"].apply(clean_text)\n",
    "eval_dataset = Dataset.from_pandas(eval_df)"
   ]
  },
  {
   "cell_type": "code",
   "execution_count": 46,
   "id": "5eec4568-62ce-4d5e-907c-ef92a45901af",
   "metadata": {},
   "outputs": [
    {
     "data": {
      "application/vnd.jupyter.widget-view+json": {
       "model_id": "f43606ddbd2741ce8b510ae38269400c",
       "version_major": 2,
       "version_minor": 0
      },
      "text/plain": [
       "Map:   0%|          | 0/818 [00:00<?, ? examples/s]"
      ]
     },
     "metadata": {},
     "output_type": "display_data"
    }
   ],
   "source": [
    "def eval_tokenize(examples):\n",
    "    return eval_tokenizer(examples[\"utterance\"], padding=\"max_length\", truncation=True)\n",
    "\n",
    "eval_dataset = eval_dataset.map(eval_tokenize, batched=True)"
   ]
  },
  {
   "cell_type": "code",
   "execution_count": 47,
   "id": "4f7ebcae-8709-401b-b1cc-86a8e3360ea5",
   "metadata": {},
   "outputs": [
    {
     "data": {
      "application/vnd.jupyter.widget-view+json": {
       "model_id": "969c6a16e8ca41e299d57957a953c97f",
       "version_major": 2,
       "version_minor": 0
      },
      "text/plain": [
       "Map:   0%|          | 0/818 [00:00<?, ? examples/s]"
      ]
     },
     "metadata": {},
     "output_type": "display_data"
    }
   ],
   "source": [
    "eval_dataset = eval_dataset.map(lambda x: {\"labels\": intent_labels[x[\"intent\"]]})"
   ]
  },
  {
   "cell_type": "code",
   "execution_count": 48,
   "id": "f431103f-591c-4f8f-8893-3499b61667f9",
   "metadata": {},
   "outputs": [],
   "source": [
    "eval_dataset.set_format(type='torch', columns=['input_ids', 'attention_mask', 'labels'])"
   ]
  },
  {
   "cell_type": "code",
   "execution_count": 49,
   "id": "cb81aecb-ed17-4f61-8cc0-9c86befd2193",
   "metadata": {},
   "outputs": [],
   "source": [
    "accuracy, report = evaluate_model(eval_model, eval_dataset, intent_labels)"
   ]
  },
  {
   "cell_type": "code",
   "execution_count": 50,
   "id": "85a3dd9f-3cc1-41d6-a291-57d803c8c582",
   "metadata": {},
   "outputs": [
    {
     "name": "stdout",
     "output_type": "stream",
     "text": [
      "\n",
      "Model Evaluation Results:\n",
      "Accuracy: 1.0000\n",
      "Classification Report:\n",
      "                          precision    recall  f1-score   support\n",
      "\n",
      "            cancel_order       1.00      1.00      1.00        25\n",
      "            change_order       1.00      1.00      1.00        39\n",
      " change_shipping_address       1.00      1.00      1.00        41\n",
      "  check_cancellation_fee       1.00      1.00      1.00        26\n",
      "           check_invoice       1.00      1.00      1.00        31\n",
      "   check_payment_methods       1.00      1.00      1.00        26\n",
      "     check_refund_policy       1.00      1.00      1.00        37\n",
      "               complaint       1.00      1.00      1.00        23\n",
      "contact_customer_service       1.00      1.00      1.00        24\n",
      "     contact_human_agent       1.00      1.00      1.00        42\n",
      "          create_account       1.00      1.00      1.00        25\n",
      "          delete_account       1.00      1.00      1.00        29\n",
      "        delivery_options       1.00      1.00      1.00        32\n",
      "         delivery_period       1.00      1.00      1.00        38\n",
      "            edit_account       1.00      1.00      1.00        35\n",
      "             get_invoice       1.00      1.00      1.00        31\n",
      "              get_refund       1.00      1.00      1.00        28\n",
      " newsletter_subscription       1.00      1.00      1.00        23\n",
      "           payment_issue       1.00      1.00      1.00        27\n",
      "             place_order       1.00      1.00      1.00        30\n",
      "        recover_password       1.00      1.00      1.00        20\n",
      "   registration_problems       1.00      1.00      1.00        27\n",
      "                  review       1.00      1.00      1.00        32\n",
      " set_up_shipping_address       1.00      1.00      1.00        32\n",
      "          switch_account       1.00      1.00      1.00        36\n",
      "             track_order       1.00      1.00      1.00        31\n",
      "            track_refund       1.00      1.00      1.00        28\n",
      "\n",
      "                accuracy                           1.00       818\n",
      "               macro avg       1.00      1.00      1.00       818\n",
      "            weighted avg       1.00      1.00      1.00       818\n",
      "\n"
     ]
    }
   ],
   "source": [
    "print(f\"\\nModel Evaluation Results:\")\n",
    "print(f\"Accuracy: {accuracy:.4f}\")\n",
    "print(\"Classification Report:\")\n",
    "print(report)"
   ]
  },
  {
   "cell_type": "code",
   "execution_count": 78,
   "id": "a27c352d-7ee0-4410-94a1-3efa59556f3a",
   "metadata": {},
   "outputs": [],
   "source": [
    "app = FastAPI()\n",
    "\n",
    "class Query(BaseModel):\n",
    "    text: str\n",
    "\n",
    "@app.post(\"/predict\")\n",
    "async def predict_intent(query: Query):\n",
    "    try:\n",
    "        text = clean_text(query.text)\n",
    "        inputs = eval_tokenizer(text, return_tensors=\"pt\", padding=\"max_length\", truncation=True)\n",
    "        \n",
    "        with torch.no_grad():\n",
    "            outputs = eval_model(**inputs)\n",
    "        \n",
    "        pred_id = torch.argmax(outputs.logits, dim=1).item()\n",
    "        intent = list(intent_labels.keys())[list(intent_labels.values()).index(pred_id)]\n",
    "        \n",
    "        return {\n",
    "            \"text\": query.text,\n",
    "            \"intent\": intent,\n",
    "            \"confidence\": torch.softmax(outputs.logits, dim=1)[0][pred_id].item()\n",
    "        }\n",
    "    except Exception as e:\n",
    "        raise HTTPException(status_code=500, detail=str(e))\n",
    "\n",
    "@app.get(\"/intents\")\n",
    "async def get_intents():\n",
    "    return {\"intents\": list(intent_labels.keys())}"
   ]
  },
  {
   "cell_type": "code",
   "execution_count": 58,
   "id": "e9b21cb8-94ee-44fd-b0ff-8d867d0ee9d4",
   "metadata": {},
   "outputs": [
    {
     "name": "stdout",
     "output_type": "stream",
     "text": [
      "FastAPI server is running on http://localhost:8000\n"
     ]
    },
    {
     "name": "stderr",
     "output_type": "stream",
     "text": [
      "INFO:     Started server process [4024]\n",
      "INFO:     Waiting for application startup.\n",
      "INFO:     Application startup complete.\n",
      "INFO:     Uvicorn running on http://0.0.0.0:8000 (Press CTRL+C to quit)\n"
     ]
    },
    {
     "name": "stdout",
     "output_type": "stream",
     "text": [
      "INFO:     127.0.0.1:59100 - \"GET / HTTP/1.1\" 404 Not Found\n",
      "INFO:     127.0.0.1:59100 - \"GET /favicon.ico HTTP/1.1\" 404 Not Found\n",
      "INFO:     127.0.0.1:59103 - \"POST /predict HTTP/1.1\" 200 OK\n",
      "INFO:     127.0.0.1:59107 - \"GET /intents HTTP/1.1\" 200 OK\n",
      "INFO:     127.0.0.1:59140 - \"GET / HTTP/1.1\" 404 Not Found\n",
      "INFO:     127.0.0.1:59140 - \"GET /favicon.ico HTTP/1.1\" 404 Not Found\n",
      "INFO:     127.0.0.1:59168 - \"POST /predict HTTP/1.1\" 200 OK\n",
      "INFO:     127.0.0.1:59170 - \"GET /intents HTTP/1.1\" 200 OK\n",
      "INFO:     127.0.0.1:59253 - \"POST /predict HTTP/1.1\" 200 OK\n",
      "INFO:     127.0.0.1:59255 - \"GET /intents HTTP/1.1\" 200 OK\n"
     ]
    }
   ],
   "source": [
    "def run_server():\n",
    "    uvicorn.run(app, host=\"0.0.0.0\", port=8000)\n",
    "\n",
    "thread = threading.Thread(target=run_server, daemon=True)\n",
    "thread.start()\n",
    "\n",
    "print(\"FastAPI server is running on http://localhost:8000\")"
   ]
  },
  {
   "cell_type": "code",
   "execution_count": 81,
   "id": "145a5813-1d9d-4ba0-b9a1-a5a7dd087b51",
   "metadata": {},
   "outputs": [],
   "source": [
    "import json\n",
    "\n",
    "with open(\"label_mapping.json\", \"w\") as f:\n",
    "    json.dump(intent_labels, f)"
   ]
  },
  {
   "cell_type": "code",
   "execution_count": 61,
   "id": "03161641-a378-4596-95a7-ccd918a0fd89",
   "metadata": {},
   "outputs": [
    {
     "name": "stdout",
     "output_type": "stream",
     "text": [
      "{'text': 'How do I reset my password?', 'intent': 'recover_password', 'confidence': 0.9861235618591309}\n"
     ]
    }
   ],
   "source": [
    "response = requests.post(\"http://localhost:8000/predict\", json={\"text\": \"How do I reset my password?\"})\n",
    "print(response.json())"
   ]
  },
  {
   "cell_type": "code",
   "execution_count": 62,
   "id": "124bee56-3b7e-4125-ad63-709b8a5ba684",
   "metadata": {},
   "outputs": [
    {
     "name": "stdout",
     "output_type": "stream",
     "text": [
      "{'intents': ['cancel_order', 'change_order', 'change_shipping_address', 'check_cancellation_fee', 'check_invoice', 'check_payment_methods', 'check_refund_policy', 'complaint', 'contact_customer_service', 'contact_human_agent', 'create_account', 'delete_account', 'delivery_options', 'delivery_period', 'edit_account', 'get_invoice', 'get_refund', 'newsletter_subscription', 'payment_issue', 'place_order', 'recover_password', 'registration_problems', 'review', 'set_up_shipping_address', 'switch_account', 'track_order', 'track_refund']}\n"
     ]
    }
   ],
   "source": [
    "response = requests.get(\"http://localhost:8000/intents\")\n",
    "print(response.json())"
   ]
  },
  {
   "cell_type": "code",
   "execution_count": 64,
   "id": "a8793622-9437-4afd-b2c6-ec8bd12c2c89",
   "metadata": {},
   "outputs": [],
   "source": [
    "logging.basicConfig(\n",
    "    level=logging.INFO,\n",
    "    format='%(asctime)s - %(levelname)s - %(message)s'\n",
    ")\n",
    "logger = logging.getLogger(__name__)\n",
    "\n",
    "app = FastAPI()\n",
    "\n",
    "app.add_middleware(\n",
    "    CORSMiddleware,\n",
    "    allow_origins=[\"*\"],\n",
    "    allow_credentials=True,\n",
    "    allow_methods=[\"*\"],\n",
    "    allow_headers=[\"*\"],\n",
    ")\n",
    "\n",
    "class Query(BaseModel):\n",
    "    text: str\n",
    "\n",
    "@app.middleware(\"http\")\n",
    "async def log_requests(request: Request, call_next):\n",
    "    start_time = datetime.now()\n",
    "    \n",
    "    request_body = await request.body()\n",
    "    try:\n",
    "        request_body = json.loads(request_body.decode())\n",
    "    except:\n",
    "        request_body = {}\n",
    "    \n",
    "    logger.info(f\"Request: {request.method} {request.url} - Body: {request_body}\")\n",
    "    \n",
    "    response = await call_next(request)\n",
    "    \n",
    "    process_time = (datetime.now() - start_time).total_seconds() * 1000\n",
    "    logger.info(f\"Response: {response.status_code} - Process Time: {process_time:.2f}ms\")\n",
    "    \n",
    "    return response"
   ]
  },
  {
   "cell_type": "code",
   "execution_count": 71,
   "id": "29067deb-9061-4c99-8c40-a8807def3359",
   "metadata": {},
   "outputs": [],
   "source": [
    "@app.post(\"/predict\")\n",
    "async def predict_intent(query: Query) -> Dict[str, Any]:\n",
    "    \"\"\"Endpoint to predict intent from user text\"\"\"\n",
    "    try:\n",
    "        if not query.text or not isinstance(query.text, str):\n",
    "            raise HTTPException(status_code=400, detail=\"Invalid input text\")\n",
    "        \n",
    "        text = clean_text(query.text)\n",
    "        inputs = eval_tokenizer(text, return_tensors=\"pt\", padding=\"max_length\", truncation=True)\n",
    "        \n",
    "        with torch.no_grad():\n",
    "            outputs = eval_model(**inputs)\n",
    "        \n",
    "        pred_id = torch.argmax(outputs.logits, dim=1).item()\n",
    "        intent = list(intent_labels.keys())[list(intent_labels.values()).index(pred_id)]\n",
    "        confidence = torch.softmax(outputs.logits, dim=1)[0][pred_id].item()\n",
    "        \n",
    "        response = {\n",
    "            \"status\": \"success\",\n",
    "            \"data\": {\n",
    "                \"text\": query.text,\n",
    "                \"intent\": intent,\n",
    "                \"confidence\": confidence,\n",
    "                \"timestamp\": datetime.now().isoformat()\n",
    "            }\n",
    "        }\n",
    "        \n",
    "        return JSONResponse(content=response, status_code=200)\n",
    "        \n",
    "    except Exception as e:\n",
    "        logger.error(f\"Prediction error: {str(e)}\", exc_info=True)\n",
    "        error_response = {\n",
    "            \"status\": \"error\",\n",
    "            \"message\": \"Failed to process request\",\n",
    "            \"detail\": str(e),\n",
    "            \"timestamp\": datetime.now().isoformat()\n",
    "        }\n",
    "        return JSONResponse(content=error_response, status_code=500)\n",
    "\n",
    "@app.get(\"/intents\")\n",
    "async def get_intents() -> Dict[str, Any]:\n",
    "    \"\"\"Endpoint to list all available intents\"\"\"\n",
    "    try:\n",
    "        response = {\n",
    "            \"status\": \"success\",\n",
    "            \"data\": {\n",
    "                \"intents\": list(intent_labels.keys()),\n",
    "                \"count\": len(intent_labels),\n",
    "                \"timestamp\": datetime.now().isoformat()\n",
    "            }\n",
    "        }\n",
    "        return JSONResponse(content=response, status_code=200)\n",
    "    except Exception as e:\n",
    "        logger.error(f\"Intents list error: {str(e)}\", exc_info=True)\n",
    "        error_response = {\n",
    "            \"status\": \"error\",\n",
    "            \"message\": \"Failed to retrieve intents\",\n",
    "            \"timestamp\": datetime.now().isoformat()\n",
    "        }\n",
    "        return JSONResponse(content=error_response, status_code=500)"
   ]
  },
  {
   "cell_type": "code",
   "execution_count": 72,
   "id": "d463b95f-1d9a-45a2-b8da-e61e28ec2d7c",
   "metadata": {},
   "outputs": [
    {
     "name": "stderr",
     "output_type": "stream",
     "text": [
      "INFO:     Started server process [4024]\n",
      "INFO:     Waiting for application startup.\n",
      "INFO:     Application startup complete.\n",
      "ERROR:    [Errno 10048] error while attempting to bind on address ('0.0.0.0', 8000): only one usage of each socket address (protocol/network address/port) is normally permitted\n",
      "INFO:     Waiting for application shutdown.\n",
      "INFO:     Application shutdown complete.\n"
     ]
    },
    {
     "name": "stdout",
     "output_type": "stream",
     "text": [
      "\n",
      "✅ Backend Server Running!\n",
      "http://localhost:8000/docs - Swagger UI\n",
      "http://localhost:8000/redoc - ReDoc UI\n",
      "\n"
     ]
    }
   ],
   "source": [
    "def run_server():\n",
    "    uvicorn.run(app, host=\"0.0.0.0\", port=8000, log_level=\"info\")\n",
    "\n",
    "server_thread = threading.Thread(target=run_server, daemon=True)\n",
    "server_thread.start()\n",
    "\n",
    "time.sleep(2)\n",
    "\n",
    "print(\"\"\"\n",
    "✅ Backend Server Running!\n",
    "http://localhost:8000/docs - Swagger UI\n",
    "http://localhost:8000/redoc - ReDoc UI\n",
    "\"\"\")"
   ]
  },
  {
   "cell_type": "code",
   "execution_count": 73,
   "id": "34f59b04-9acd-4816-9171-cd8727c538f2",
   "metadata": {
    "scrolled": true
   },
   "outputs": [
    {
     "name": "stdout",
     "output_type": "stream",
     "text": [
      "Prediction Test:\n",
      "{\n",
      "  \"text\": \"How do I reset my password?\",\n",
      "  \"intent\": \"recover_password\",\n",
      "  \"confidence\": 0.9861235618591309\n",
      "}\n",
      "\n",
      "Intents Test:\n",
      "{\n",
      "  \"intents\": [\n",
      "    \"cancel_order\",\n",
      "    \"change_order\",\n",
      "    \"change_shipping_address\",\n",
      "    \"check_cancellation_fee\",\n",
      "    \"check_invoice\",\n",
      "    \"check_payment_methods\",\n",
      "    \"check_refund_policy\",\n",
      "    \"complaint\",\n",
      "    \"contact_customer_service\",\n",
      "    \"contact_human_agent\",\n",
      "    \"create_account\",\n",
      "    \"delete_account\",\n",
      "    \"delivery_options\",\n",
      "    \"delivery_period\",\n",
      "    \"edit_account\",\n",
      "    \"get_invoice\",\n",
      "    \"get_refund\",\n",
      "    \"newsletter_subscription\",\n",
      "    \"payment_issue\",\n",
      "    \"place_order\",\n",
      "    \"recover_password\",\n",
      "    \"registration_problems\",\n",
      "    \"review\",\n",
      "    \"set_up_shipping_address\",\n",
      "    \"switch_account\",\n",
      "    \"track_order\",\n",
      "    \"track_refund\"\n",
      "  ]\n",
      "}\n"
     ]
    }
   ],
   "source": [
    "test_text = \"How do I reset my password?\"\n",
    "response = requests.post(\"http://localhost:8000/predict\", json={\"text\": test_text})\n",
    "print(\"Prediction Test:\")\n",
    "print(json.dumps(response.json(), indent=2))\n",
    "\n",
    "response = requests.get(\"http://localhost:8000/intents\")\n",
    "print(\"\\nIntents Test:\")\n",
    "print(json.dumps(response.json(), indent=2))"
   ]
  },
  {
   "cell_type": "code",
   "execution_count": 3,
   "id": "526d4379-0c6b-4d80-b4d2-9b82a329a4ce",
   "metadata": {},
   "outputs": [],
   "source": [
    "from transformers import DistilBertForSequenceClassification\n",
    "\n",
    "model_path = r\"C:\\Users\\hafiz\\Documents\\Gomycode\\Test chatbot\\chatbot_model\"\n",
    "model = DistilBertForSequenceClassification.from_pretrained(model_path)"
   ]
  },
  {
   "cell_type": "code",
   "execution_count": null,
   "id": "0c27589e-152a-464b-a5a9-8b5d029d9816",
   "metadata": {},
   "outputs": [],
   "source": []
  }
 ],
 "metadata": {
  "kernelspec": {
   "display_name": "Python 3 (ipykernel)",
   "language": "python",
   "name": "python3"
  },
  "language_info": {
   "codemirror_mode": {
    "name": "ipython",
    "version": 3
   },
   "file_extension": ".py",
   "mimetype": "text/x-python",
   "name": "python",
   "nbconvert_exporter": "python",
   "pygments_lexer": "ipython3",
   "version": "3.12.4"
  }
 },
 "nbformat": 4,
 "nbformat_minor": 5
}
