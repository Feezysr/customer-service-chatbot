{
 "cells": [
  {
   "cell_type": "code",
   "execution_count": null,
   "id": "3766a0bc-1091-44da-b4c7-ef50fbf47bdf",
   "metadata": {},
   "outputs": [],
   "source": [
    "import requests\n",
    "import json\n",
    "\n",
    "BASE_URL = \"http://localhost:8000\"\n",
    "\n",
    "def run_tests():\n",
    "    with open(\"test_cases.json\") as f:\n",
    "        test_cases = json.load(f)\n",
    "    \n",
    "    for i, test in enumerate(test_cases, 1):\n",
    "        response = requests.post(f\"{BASE_URL}/predict\", json={\"text\": test[\"input\"]})\n",
    "        result = response.json()\n",
    "        \n",
    "        print(f\"Test {i}: {test['input']}\")\n",
    "        print(f\"Predicted: {result['intent']} (Expected: {test['expected_intent']})\")\n",
    "        print(f\"Confidence: {result['confidence']:.2%}\")\n",
    "        print(\"-\" * 50)\n",
    "\n",
    "if __name__ == \"__main__\":\n",
    "    run_tests()"
   ]
  }
 ],
 "metadata": {
  "kernelspec": {
   "display_name": "Python 3 (ipykernel)",
   "language": "python",
   "name": "python3"
  },
  "language_info": {
   "codemirror_mode": {
    "name": "ipython",
    "version": 3
   },
   "file_extension": ".py",
   "mimetype": "text/x-python",
   "name": "python",
   "nbconvert_exporter": "python",
   "pygments_lexer": "ipython3",
   "version": "3.12.4"
  }
 },
 "nbformat": 4,
 "nbformat_minor": 5
}
